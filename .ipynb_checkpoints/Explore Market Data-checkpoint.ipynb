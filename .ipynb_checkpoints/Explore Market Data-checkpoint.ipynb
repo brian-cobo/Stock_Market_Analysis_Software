{
 "cells": [
  {
   "cell_type": "code",
   "execution_count": null,
   "metadata": {},
   "outputs": [],
   "source": [
    "import pandas as pd\n",
    "import numpy as np\n",
    "import matplotlib.pyplot as plt\n",
    "import seaborn as sns"
   ]
  },
  {
   "cell_type": "markdown",
   "metadata": {},
   "source": [
    "This Spreadsheet is produced by the create market report function in my other program where it takes all of the company symbols listed on a Nasdaq spreadsheet and makes api calls about the company to pull this information. The data here is the latest data of the results of the trading results. There were a few stocks that gave errors when trying to find the stock data for them, the reason being is that they probably did not trade on this day, so we need to find which stocks don't have an open or close price which will indicate they didn't trade and remove them.\n",
    "\n",
    "I want to explore the information produced and look at any correlations between companies, look at how different industries and sectors performed, what kind of stocks have the highest volume and so on."
   ]
  },
  {
   "cell_type": "code",
   "execution_count": null,
   "metadata": {},
   "outputs": [],
   "source": [
    "marketData = pd.read_excel('Market_Summary.xlsx')"
   ]
  },
  {
   "cell_type": "code",
   "execution_count": null,
   "metadata": {},
   "outputs": [],
   "source": [
    "marketData.head()"
   ]
  },
  {
   "cell_type": "code",
   "execution_count": null,
   "metadata": {},
   "outputs": [],
   "source": [
    "marketData.info()"
   ]
  },
  {
   "cell_type": "code",
   "execution_count": null,
   "metadata": {},
   "outputs": [],
   "source": [
    "# This will display all stocks that have no values stored for both the open and closing price\n",
    "# We can delete these\n",
    "marketData[(marketData.Open.isnull()) & (marketData.Price.isnull())]"
   ]
  },
  {
   "cell_type": "code",
   "execution_count": null,
   "metadata": {},
   "outputs": [],
   "source": [
    "# Removing columns where there is null data\n",
    "marketData = marketData[(marketData.Open.isnull() == False) & (marketData.Price.isnull() == False)]\n",
    "\n",
    "# To verify that it worked, we're going to use the same command from the previous cell to show all companies with\n",
    "# no opening and closing data\n",
    "marketData[(marketData.Open.isnull()) & (marketData.Price.isnull())]"
   ]
  },
  {
   "cell_type": "code",
   "execution_count": null,
   "metadata": {},
   "outputs": [],
   "source": [
    "# Looking at updated information about the spreadsheet now\n",
    "marketData.info()"
   ]
  },
  {
   "cell_type": "markdown",
   "metadata": {},
   "source": [
    "Looking at the column data, I notice that Change Percent is a string, we may want to convert that into float, and that there are 490 (14% of data) values missing for Industry and Sector."
   ]
  },
  {
   "cell_type": "code",
   "execution_count": null,
   "metadata": {},
   "outputs": [],
   "source": [
    "# Looking at the correlation between the diferent columns\n",
    "marketData.corr()"
   ]
  },
  {
   "cell_type": "code",
   "execution_count": null,
   "metadata": {},
   "outputs": [],
   "source": [
    "f,ax = plt.subplots(figsize=(15, 15))\n",
    "sns.heatmap(marketData.corr(), annot=True, linewidths=.5, fmt= '.1f',ax=ax)\n",
    "plt.show()"
   ]
  },
  {
   "cell_type": "markdown",
   "metadata": {},
   "source": [
    "There appears to be a strong positive correlation between Open, High, Low, and Previous Close. We'll have to investigate a bit later"
   ]
  },
  {
   "cell_type": "code",
   "execution_count": null,
   "metadata": {},
   "outputs": [],
   "source": [
    "marketData.columns"
   ]
  },
  {
   "cell_type": "code",
   "execution_count": null,
   "metadata": {},
   "outputs": [],
   "source": [
    "#sector_data_sorted = marketDat\n",
    "marketData.Sector.value_counts()"
   ]
  },
  {
   "cell_type": "code",
   "execution_count": null,
   "metadata": {},
   "outputs": [],
   "source": [
    "plt.figure(figsize = (12, 8))\n",
    "ax = sns.countplot(x = 'Sector', \n",
    "              data = marketData,\n",
    "              linewidth = -5,\n",
    "              order = marketData.Sector.value_counts().index)\n",
    "ax.set_xticklabels(ax.get_xticklabels(), rotation=20, horizontalalignment='right')\n",
    "plt.xlabel(\"Sector\")\n",
    "plt.ylabel(\"Count across Market\")\n",
    "plt.title(\"Sector Representation in Market\")\n",
    "plt.show()"
   ]
  },
  {
   "cell_type": "code",
   "execution_count": null,
   "metadata": {},
   "outputs": [],
   "source": [
    "plt.figure(figsize = (100, 16))\n",
    "ax = sns.countplot(x = 'Industry', \n",
    "              data = marketData,\n",
    "              linewidth = 100,\n",
    "              order = marketData.Industry.value_counts().index)\n",
    "ax.set_xticklabels(ax.get_xticklabels(), rotation=30, horizontalalignment='right')\n",
    "plt.xlabel(\"Industries\")\n",
    "plt.ylabel(\"Count across Market\")\n",
    "plt.title(\"Industry Representation in Market\")\n",
    "plt.show()"
   ]
  },
  {
   "cell_type": "markdown",
   "metadata": {},
   "source": [
    "Looking at the graphs above, Health Care/Pharmaceuticals, and Finance make up the largest part of the market"
   ]
  },
  {
   "cell_type": "code",
   "execution_count": null,
   "metadata": {},
   "outputs": [],
   "source": [
    "plt.figure(figsize = (12, 8))\n",
    "ax = plt.plot(x = marketData.Sector,\n",
    "              y = marketData.Volume)\n",
    "ax.set_xticklabels(ax.get_xticklabels(), rotation=20, horizontalalignment='right')\n",
    "plt.xlabel(\"Sector\")\n",
    "plt.ylabel(\"Count across Market\")\n",
    "plt.title(\"Sector Representation in Market\")\n",
    "plt.show()"
   ]
  },
  {
   "cell_type": "code",
   "execution_count": null,
   "metadata": {},
   "outputs": [],
   "source": [
    "marketData.columns"
   ]
  },
  {
   "cell_type": "code",
   "execution_count": null,
   "metadata": {},
   "outputs": [],
   "source": []
  }
 ],
 "metadata": {
  "kernelspec": {
   "display_name": "Python 3",
   "language": "python",
   "name": "python3"
  },
  "language_info": {
   "codemirror_mode": {
    "name": "ipython",
    "version": 3
   },
   "file_extension": ".py",
   "mimetype": "text/x-python",
   "name": "python",
   "nbconvert_exporter": "python",
   "pygments_lexer": "ipython3",
   "version": "3.7.2"
  }
 },
 "nbformat": 4,
 "nbformat_minor": 2
}
