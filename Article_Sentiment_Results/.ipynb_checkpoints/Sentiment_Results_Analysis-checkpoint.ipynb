{
 "cells": [
  {
   "cell_type": "code",
   "execution_count": 216,
   "metadata": {},
   "outputs": [],
   "source": [
    "import pandas as pd\n",
    "import numpy as np\n",
    "import matplotlib.pyplot as plt\n",
    "import matplotlib.dates as mdates\n",
    "import matplotlib.cbook as cbook\n",
    "import seaborn as sns\n",
    "from collections import Counter\n",
    "import warnings\n",
    "warnings.filterwarnings('ignore')"
   ]
  },
  {
   "cell_type": "code",
   "execution_count": 217,
   "metadata": {},
   "outputs": [],
   "source": [
    "data = pd.read_csv('Sentiment_Results.csv')"
   ]
  },
  {
   "cell_type": "code",
   "execution_count": 218,
   "metadata": {},
   "outputs": [
    {
     "data": {
      "text/html": [
       "<div>\n",
       "<style scoped>\n",
       "    .dataframe tbody tr th:only-of-type {\n",
       "        vertical-align: middle;\n",
       "    }\n",
       "\n",
       "    .dataframe tbody tr th {\n",
       "        vertical-align: top;\n",
       "    }\n",
       "\n",
       "    .dataframe thead th {\n",
       "        text-align: right;\n",
       "    }\n",
       "</style>\n",
       "<table border=\"1\" class=\"dataframe\">\n",
       "  <thead>\n",
       "    <tr style=\"text-align: right;\">\n",
       "      <th></th>\n",
       "      <th>URL</th>\n",
       "      <th>Title</th>\n",
       "      <th>Company_Symbol</th>\n",
       "      <th>Author</th>\n",
       "      <th>Date_Published</th>\n",
       "      <th>Time_Published</th>\n",
       "      <th>Overall_SA</th>\n",
       "      <th>Positive_SA</th>\n",
       "      <th>Negative_SA</th>\n",
       "      <th>Neutral_SA</th>\n",
       "    </tr>\n",
       "  </thead>\n",
       "  <tbody>\n",
       "    <tr>\n",
       "      <th>0</th>\n",
       "      <td>https://www.ibtimes.com/tesla-news-company-emp...</td>\n",
       "      <td>Tesla News: Company Emphasizes How Powerwall C...</td>\n",
       "      <td>TSLA</td>\n",
       "      <td>Wesley Dockery</td>\n",
       "      <td>08/10/19</td>\n",
       "      <td>10:56 AM</td>\n",
       "      <td>0.8555</td>\n",
       "      <td>0.047</td>\n",
       "      <td>0.006</td>\n",
       "      <td>0.947</td>\n",
       "    </tr>\n",
       "    <tr>\n",
       "      <th>1</th>\n",
       "      <td>https://www.ibtimes.com/life-tesla-spacex-elon...</td>\n",
       "      <td>Life Before Tesla And SpaceX? Elon Musk’s Mom ...</td>\n",
       "      <td>TSLA</td>\n",
       "      <td>Dawn Geske</td>\n",
       "      <td>08/09/19</td>\n",
       "      <td>3:22 PM</td>\n",
       "      <td>-0.6369</td>\n",
       "      <td>0.042</td>\n",
       "      <td>0.063</td>\n",
       "      <td>0.895</td>\n",
       "    </tr>\n",
       "    <tr>\n",
       "      <th>3</th>\n",
       "      <td>https://www.ibtimes.com/tesla-pickup-design-wh...</td>\n",
       "      <td>Tesla Pickup Design: Which Of These Concepts I...</td>\n",
       "      <td>TSLA</td>\n",
       "      <td>Lorraine Lorenzo</td>\n",
       "      <td>08/08/19</td>\n",
       "      <td>11:35 PM</td>\n",
       "      <td>0.9455</td>\n",
       "      <td>0.071</td>\n",
       "      <td>0.038</td>\n",
       "      <td>0.890</td>\n",
       "    </tr>\n",
       "    <tr>\n",
       "      <th>4</th>\n",
       "      <td>https://www.ibtimes.com/new-tesla-dead-tesla-m...</td>\n",
       "      <td>New Tesla For The Dead? Tesla Model S Hearse F...</td>\n",
       "      <td>TSLA</td>\n",
       "      <td>Arthur Villasanta</td>\n",
       "      <td>08/08/19</td>\n",
       "      <td>7:17 AM</td>\n",
       "      <td>0.5499</td>\n",
       "      <td>0.064</td>\n",
       "      <td>0.059</td>\n",
       "      <td>0.877</td>\n",
       "    </tr>\n",
       "    <tr>\n",
       "      <th>5</th>\n",
       "      <td>https://www.ibtimes.com/tesla-model-3-not-safe...</td>\n",
       "      <td>Tesla Model 3 Is Not The Safest Car Ever Teste...</td>\n",
       "      <td>TSLA</td>\n",
       "      <td>Arthur Villasanta</td>\n",
       "      <td>08/08/19</td>\n",
       "      <td>12:25 AM</td>\n",
       "      <td>0.7047</td>\n",
       "      <td>0.084</td>\n",
       "      <td>0.069</td>\n",
       "      <td>0.847</td>\n",
       "    </tr>\n",
       "  </tbody>\n",
       "</table>\n",
       "</div>"
      ],
      "text/plain": [
       "                                                 URL  \\\n",
       "0  https://www.ibtimes.com/tesla-news-company-emp...   \n",
       "1  https://www.ibtimes.com/life-tesla-spacex-elon...   \n",
       "3  https://www.ibtimes.com/tesla-pickup-design-wh...   \n",
       "4  https://www.ibtimes.com/new-tesla-dead-tesla-m...   \n",
       "5  https://www.ibtimes.com/tesla-model-3-not-safe...   \n",
       "\n",
       "                                               Title Company_Symbol  \\\n",
       "0  Tesla News: Company Emphasizes How Powerwall C...           TSLA   \n",
       "1  Life Before Tesla And SpaceX? Elon Musk’s Mom ...           TSLA   \n",
       "3  Tesla Pickup Design: Which Of These Concepts I...           TSLA   \n",
       "4  New Tesla For The Dead? Tesla Model S Hearse F...           TSLA   \n",
       "5  Tesla Model 3 Is Not The Safest Car Ever Teste...           TSLA   \n",
       "\n",
       "              Author Date_Published Time_Published  Overall_SA  Positive_SA  \\\n",
       "0     Wesley Dockery       08/10/19       10:56 AM      0.8555        0.047   \n",
       "1         Dawn Geske       08/09/19        3:22 PM     -0.6369        0.042   \n",
       "3   Lorraine Lorenzo       08/08/19       11:35 PM      0.9455        0.071   \n",
       "4  Arthur Villasanta       08/08/19        7:17 AM      0.5499        0.064   \n",
       "5  Arthur Villasanta       08/08/19       12:25 AM      0.7047        0.084   \n",
       "\n",
       "   Negative_SA  Neutral_SA  \n",
       "0        0.006       0.947  \n",
       "1        0.063       0.895  \n",
       "3        0.038       0.890  \n",
       "4        0.059       0.877  \n",
       "5        0.069       0.847  "
      ]
     },
     "execution_count": 218,
     "metadata": {},
     "output_type": "execute_result"
    }
   ],
   "source": [
    "# During the article gathering, there were a bunch of articles that were of other companies besides TSLA\n",
    "#this will get information specifally about TSLA\n",
    "data = data.drop(['Unnamed: 0'], axis=1)\n",
    "data = data[(data.Company_Symbol == 'TSLA')]\n",
    "data.head()"
   ]
  },
  {
   "cell_type": "code",
   "execution_count": 219,
   "metadata": {},
   "outputs": [
    {
     "name": "stdout",
     "output_type": "stream",
     "text": [
      "<class 'pandas.core.frame.DataFrame'>\n",
      "Int64Index: 576 entries, 0 to 767\n",
      "Data columns (total 10 columns):\n",
      "URL               576 non-null object\n",
      "Title             576 non-null object\n",
      "Company_Symbol    576 non-null object\n",
      "Author            576 non-null object\n",
      "Date_Published    576 non-null object\n",
      "Time_Published    576 non-null object\n",
      "Overall_SA        576 non-null float64\n",
      "Positive_SA       576 non-null float64\n",
      "Negative_SA       576 non-null float64\n",
      "Neutral_SA        576 non-null float64\n",
      "dtypes: float64(4), object(6)\n",
      "memory usage: 49.5+ KB\n"
     ]
    }
   ],
   "source": [
    "data.info()"
   ]
  },
  {
   "cell_type": "code",
   "execution_count": 220,
   "metadata": {},
   "outputs": [
    {
     "data": {
      "text/html": [
       "<div>\n",
       "<style scoped>\n",
       "    .dataframe tbody tr th:only-of-type {\n",
       "        vertical-align: middle;\n",
       "    }\n",
       "\n",
       "    .dataframe tbody tr th {\n",
       "        vertical-align: top;\n",
       "    }\n",
       "\n",
       "    .dataframe thead th {\n",
       "        text-align: right;\n",
       "    }\n",
       "</style>\n",
       "<table border=\"1\" class=\"dataframe\">\n",
       "  <thead>\n",
       "    <tr style=\"text-align: right;\">\n",
       "      <th></th>\n",
       "      <th>Overall_SA</th>\n",
       "      <th>Positive_SA</th>\n",
       "      <th>Negative_SA</th>\n",
       "      <th>Neutral_SA</th>\n",
       "    </tr>\n",
       "  </thead>\n",
       "  <tbody>\n",
       "    <tr>\n",
       "      <th>count</th>\n",
       "      <td>576.000000</td>\n",
       "      <td>576.000000</td>\n",
       "      <td>576.000000</td>\n",
       "      <td>576.000000</td>\n",
       "    </tr>\n",
       "    <tr>\n",
       "      <th>mean</th>\n",
       "      <td>0.557297</td>\n",
       "      <td>0.078800</td>\n",
       "      <td>0.041918</td>\n",
       "      <td>0.879281</td>\n",
       "    </tr>\n",
       "    <tr>\n",
       "      <th>std</th>\n",
       "      <td>0.682639</td>\n",
       "      <td>0.033274</td>\n",
       "      <td>0.031952</td>\n",
       "      <td>0.044812</td>\n",
       "    </tr>\n",
       "    <tr>\n",
       "      <th>min</th>\n",
       "      <td>-0.993600</td>\n",
       "      <td>0.004000</td>\n",
       "      <td>0.000000</td>\n",
       "      <td>0.690000</td>\n",
       "    </tr>\n",
       "    <tr>\n",
       "      <th>25%</th>\n",
       "      <td>0.517675</td>\n",
       "      <td>0.055000</td>\n",
       "      <td>0.017000</td>\n",
       "      <td>0.850000</td>\n",
       "    </tr>\n",
       "    <tr>\n",
       "      <th>50%</th>\n",
       "      <td>0.939800</td>\n",
       "      <td>0.075000</td>\n",
       "      <td>0.034000</td>\n",
       "      <td>0.881000</td>\n",
       "    </tr>\n",
       "    <tr>\n",
       "      <th>75%</th>\n",
       "      <td>0.979300</td>\n",
       "      <td>0.098000</td>\n",
       "      <td>0.059250</td>\n",
       "      <td>0.912000</td>\n",
       "    </tr>\n",
       "    <tr>\n",
       "      <th>max</th>\n",
       "      <td>0.998600</td>\n",
       "      <td>0.233000</td>\n",
       "      <td>0.156000</td>\n",
       "      <td>0.987000</td>\n",
       "    </tr>\n",
       "  </tbody>\n",
       "</table>\n",
       "</div>"
      ],
      "text/plain": [
       "       Overall_SA  Positive_SA  Negative_SA  Neutral_SA\n",
       "count  576.000000   576.000000   576.000000  576.000000\n",
       "mean     0.557297     0.078800     0.041918    0.879281\n",
       "std      0.682639     0.033274     0.031952    0.044812\n",
       "min     -0.993600     0.004000     0.000000    0.690000\n",
       "25%      0.517675     0.055000     0.017000    0.850000\n",
       "50%      0.939800     0.075000     0.034000    0.881000\n",
       "75%      0.979300     0.098000     0.059250    0.912000\n",
       "max      0.998600     0.233000     0.156000    0.987000"
      ]
     },
     "execution_count": 220,
     "metadata": {},
     "output_type": "execute_result"
    }
   ],
   "source": [
    "data.describe()"
   ]
  },
  {
   "cell_type": "markdown",
   "metadata": {},
   "source": [
    "Based on the information above, out of 576 articles, the average sentiment rating was 0.557 from a scale of -1 to 1 which indicates the majority of the articles are positive"
   ]
  },
  {
   "cell_type": "code",
   "execution_count": 221,
   "metadata": {},
   "outputs": [
    {
     "data": {
      "image/png": "[encoded data removed]",
      "text/plain": [
       "<Figure size 864x432 with 2 Axes>"
      ]
     },
     "metadata": {
      "needs_background": "light"
     },
     "output_type": "display_data"
    }
   ],
   "source": [
    "f,ax = plt.subplots(figsize=(12, 6))\n",
    "sns.heatmap(data.corr(), annot=True, linewidths=.5, fmt= '.1f',ax=ax)\n",
    "plt.title('Correlation between Sentiment Analysis Ratings')\n",
    "plt.show()"
   ]
  },
  {
   "cell_type": "code",
   "execution_count": 222,
   "metadata": {},
   "outputs": [],
   "source": [
    "overall_ratings = data.Overall_SA\n",
    "overall_ratings = list(overall_ratings.apply(lambda x: round(x, 1)))\n",
    "sorted_ratings = Counter(overall_ratings)\n",
    "sorted_ratings = sorted(sorted_ratings.items())\n",
    "\n",
    "x = []\n",
    "y = []\n",
    "for key, value in sorted_ratings:\n",
    "    x.append(key)\n",
    "    y.append(value)"
   ]
  },
  {
   "cell_type": "code",
   "execution_count": 223,
   "metadata": {},
   "outputs": [
    {
     "data": {
      "image/png": "[encoded data removed]",
      "text/plain": [
       "<Figure size 864x432 with 1 Axes>"
      ]
     },
     "metadata": {
      "needs_background": "light"
     },
     "output_type": "display_data"
    }
   ],
   "source": [
    "plt.figure(figsize=(12, 6))\n",
    "plt.bar(x, y, width=0.08, color = 'red', edgecolor='black')\n",
    "plt.title('Sentiment Distribution of Tesla Articles')\n",
    "plt.xlabel('Overall Sentiment Rating')\n",
    "plt.ylabel('Number of Articles')\n",
    "plt.show()"
   ]
  },
  {
   "cell_type": "markdown",
   "metadata": {},
   "source": [
    "Looking at the graph, the company has generally had very positive news. The graph distribution is slightly bimodal with a strong negative skew meaning that the mean and standard deviation is much closer to the right side of the graph."
   ]
  },
  {
   "cell_type": "code",
   "execution_count": 229,
   "metadata": {},
   "outputs": [
    {
     "name": "stderr",
     "output_type": "stream",
     "text": [
      "/Library/Frameworks/Python.framework/Versions/3.7/lib/python3.7/site-packages/matplotlib/figure.py:98: MatplotlibDeprecationWarning: \n",
      "Adding an axes using the same arguments as a previous axes currently reuses the earlier instance.  In a future version, a new instance will always be created and returned.  Meanwhile, this warning can be suppressed, and the future behavior ensured, by passing a unique label to each axes instance.\n",
      "  \"Adding an axes using the same arguments as a previous axes \"\n"
     ]
    },
    {
     "data": {
      "image/png": "[encoded data removed]",
      "text/plain": [
       "<Figure size 1296x576 with 1 Axes>"
      ]
     },
     "metadata": {
      "needs_background": "light"
     },
     "output_type": "display_data"
    }
   ],
   "source": [
    "years_fmt = mdates.DateFormatter('%m%Y')\n",
    "\n",
    "plt.figure(figsize=(18, 8))\n",
    "plt.scatter(x=data.Date_Published[:5], y=data.Overall_SA[:5], marker='x')\n",
    "plt.title('Sentiment Analysis Distribution Over Time')\n",
    "plt.xlabel('Date')\n",
    "plt.ylabel('Sentiment Rating')\n",
    "ax = plt.subplot()\n",
    "plt.show()"
   ]
  },
  {
   "cell_type": "code",
   "execution_count": null,
   "metadata": {},
   "outputs": [],
   "source": []
  }
 ],
 "metadata": {
  "kernelspec": {
   "display_name": "Python 3",
   "language": "python",
   "name": "python3"
  },
  "language_info": {
   "codemirror_mode": {
    "name": "ipython",
    "version": 3
   },
   "file_extension": ".py",
   "mimetype": "text/x-python",
   "name": "python",
   "nbconvert_exporter": "python",
   "pygments_lexer": "ipython3",
   "version": "3.7.2"
  }
 },
 "nbformat": 4,
 "nbformat_minor": 2
}
