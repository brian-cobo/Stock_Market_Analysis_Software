{
 "cells": [
  {
   "cell_type": "code",
   "execution_count": 8,
   "metadata": {},
   "outputs": [],
   "source": [
    "import pandas as pd\n"
   ]
  },
  {
   "cell_type": "code",
   "execution_count": 9,
   "metadata": {},
   "outputs": [],
   "source": [
    "data = pd.read_csv('Sentiment_Results.csv')"
   ]
  },
  {
   "cell_type": "code",
   "execution_count": 10,
   "metadata": {},
   "outputs": [
    {
     "data": {
      "text/html": [
       "<div>\n",
       "<style scoped>\n",
       "    .dataframe tbody tr th:only-of-type {\n",
       "        vertical-align: middle;\n",
       "    }\n",
       "\n",
       "    .dataframe tbody tr th {\n",
       "        vertical-align: top;\n",
       "    }\n",
       "\n",
       "    .dataframe thead th {\n",
       "        text-align: right;\n",
       "    }\n",
       "</style>\n",
       "<table border=\"1\" class=\"dataframe\">\n",
       "  <thead>\n",
       "    <tr style=\"text-align: right;\">\n",
       "      <th></th>\n",
       "      <th>URL</th>\n",
       "      <th>Title</th>\n",
       "      <th>Company_Symbol</th>\n",
       "      <th>Author</th>\n",
       "      <th>Date_Published</th>\n",
       "      <th>Time_Published</th>\n",
       "      <th>Overall_SA</th>\n",
       "      <th>Positive_SA</th>\n",
       "      <th>Negative_SA</th>\n",
       "      <th>Neutral_SA</th>\n",
       "    </tr>\n",
       "  </thead>\n",
       "  <tbody>\n",
       "    <tr>\n",
       "      <th>0</th>\n",
       "      <td>https://www.ibtimes.com/apple-stock-4-q3-earni...</td>\n",
       "      <td>Apple Stock Up 4% On Q3 Earnings Beat Despite ...</td>\n",
       "      <td>AAPL</td>\n",
       "      <td>Arthur Villasanta</td>\n",
       "      <td>07/30/19</td>\n",
       "      <td>8:31 PM</td>\n",
       "      <td>0.9883</td>\n",
       "      <td>0.123</td>\n",
       "      <td>0.042</td>\n",
       "      <td>0.836</td>\n",
       "    </tr>\n",
       "    <tr>\n",
       "      <th>1</th>\n",
       "      <td>https://www.ibtimes.com/does-starbucks-want-be...</td>\n",
       "      <td>Does Starbucks Want To Become A Tech Company?</td>\n",
       "      <td>SBUX</td>\n",
       "      <td>Billy Duberstein</td>\n",
       "      <td>08/04/19</td>\n",
       "      <td>1:12 PM</td>\n",
       "      <td>0.9972</td>\n",
       "      <td>0.111</td>\n",
       "      <td>0.021</td>\n",
       "      <td>0.868</td>\n",
       "    </tr>\n",
       "    <tr>\n",
       "      <th>2</th>\n",
       "      <td>https://www.ibtimes.com/tesla-news-elon-musks-...</td>\n",
       "      <td>Tesla News: Elon Musk's Company Faces Lawsuit ...</td>\n",
       "      <td>TSLA</td>\n",
       "      <td>Wesley Dockery</td>\n",
       "      <td>08/03/19</td>\n",
       "      <td>2:11 PM</td>\n",
       "      <td>-0.9670</td>\n",
       "      <td>0.076</td>\n",
       "      <td>0.156</td>\n",
       "      <td>0.769</td>\n",
       "    </tr>\n",
       "    <tr>\n",
       "      <th>3</th>\n",
       "      <td>https://www.ibtimes.com/which-walmart-stores-a...</td>\n",
       "      <td>Which Walmart Stores Are Closing In 2019? A Fu...</td>\n",
       "      <td>WMT</td>\n",
       "      <td>Dawn Geske</td>\n",
       "      <td>05/30/19</td>\n",
       "      <td>12:17 PM</td>\n",
       "      <td>-0.2235</td>\n",
       "      <td>0.000</td>\n",
       "      <td>0.011</td>\n",
       "      <td>0.989</td>\n",
       "    </tr>\n",
       "  </tbody>\n",
       "</table>\n",
       "</div>"
      ],
      "text/plain": [
       "                                                 URL  \\\n",
       "0  https://www.ibtimes.com/apple-stock-4-q3-earni...   \n",
       "1  https://www.ibtimes.com/does-starbucks-want-be...   \n",
       "2  https://www.ibtimes.com/tesla-news-elon-musks-...   \n",
       "3  https://www.ibtimes.com/which-walmart-stores-a...   \n",
       "\n",
       "                                               Title Company_Symbol  \\\n",
       "0  Apple Stock Up 4% On Q3 Earnings Beat Despite ...           AAPL   \n",
       "1      Does Starbucks Want To Become A Tech Company?           SBUX   \n",
       "2  Tesla News: Elon Musk's Company Faces Lawsuit ...           TSLA   \n",
       "3  Which Walmart Stores Are Closing In 2019? A Fu...            WMT   \n",
       "\n",
       "              Author Date_Published Time_Published  Overall_SA  Positive_SA  \\\n",
       "0  Arthur Villasanta       07/30/19        8:31 PM      0.9883        0.123   \n",
       "1   Billy Duberstein       08/04/19        1:12 PM      0.9972        0.111   \n",
       "2     Wesley Dockery       08/03/19        2:11 PM     -0.9670        0.076   \n",
       "3         Dawn Geske       05/30/19       12:17 PM     -0.2235        0.000   \n",
       "\n",
       "   Negative_SA  Neutral_SA  \n",
       "0        0.042       0.836  \n",
       "1        0.021       0.868  \n",
       "2        0.156       0.769  \n",
       "3        0.011       0.989  "
      ]
     },
     "execution_count": 10,
     "metadata": {},
     "output_type": "execute_result"
    }
   ],
   "source": [
    "data.drop(columns=['Unnamed: 0'], axis=1)"
   ]
  },
  {
   "cell_type": "code",
   "execution_count": null,
   "metadata": {},
   "outputs": [],
   "source": []
  },
  {
   "cell_type": "code",
   "execution_count": null,
   "metadata": {},
   "outputs": [],
   "source": []
  }
 ],
 "metadata": {
  "kernelspec": {
   "display_name": "Python 3",
   "language": "python",
   "name": "python3"
  },
  "language_info": {
   "codemirror_mode": {
    "name": "ipython",
    "version": 3
   },
   "file_extension": ".py",
   "mimetype": "text/x-python",
   "name": "python",
   "nbconvert_exporter": "python",
   "pygments_lexer": "ipython3",
   "version": "3.7.2"
  }
 },
 "nbformat": 4,
 "nbformat_minor": 2
}
