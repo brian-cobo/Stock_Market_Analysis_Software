{
 "cells": [
  {
   "cell_type": "code",
   "execution_count": 47,
   "metadata": {
    "pycharm": {
     "is_executing": false
    }
   },
   "outputs": [],
   "source": [
    "import pandas as pd\n",
    "import numpy as np\n",
    "import matplotlib.pyplot as plt\n",
    "import seaborn as sns\n",
    "import warnings\n",
    "warnings.filterwarnings('ignore')\n",
    "\n",
    "from sklearn.model_selection import KFold\n",
    "from sklearn.model_selection import train_test_split\n",
    "from sklearn.model_selection import cross_val_score\n",
    "from sklearn.pipeline import Pipeline\n",
    "\n",
    "from keras.wrappers.scikit_learn import KerasClassifier\n",
    "from keras.models import Sequential\n",
    "from keras.layers import Dense\n",
    "from keras.utils import np_utils"
   ]
  },
  {
   "cell_type": "code",
   "execution_count": 48,
   "metadata": {},
   "outputs": [],
   "source": [
    "data = pd.read_csv('Training_File_5_Day_Period_Old.csv')"
   ]
  },
  {
   "cell_type": "code",
   "execution_count": 49,
   "metadata": {},
   "outputs": [
    {
     "data": {
      "text/html": [
       "<div>\n",
       "<style scoped>\n",
       "    .dataframe tbody tr th:only-of-type {\n",
       "        vertical-align: middle;\n",
       "    }\n",
       "\n",
       "    .dataframe tbody tr th {\n",
       "        vertical-align: top;\n",
       "    }\n",
       "\n",
       "    .dataframe thead th {\n",
       "        text-align: right;\n",
       "    }\n",
       "</style>\n",
       "<table border=\"1\" class=\"dataframe\">\n",
       "  <thead>\n",
       "    <tr style=\"text-align: right;\">\n",
       "      <th></th>\n",
       "      <th>Start_Date</th>\n",
       "      <th>Start_Date_Close</th>\n",
       "      <th>End_Date</th>\n",
       "      <th>End_Date_Close</th>\n",
       "      <th>Difference</th>\n",
       "      <th>Difference_Percent_Change</th>\n",
       "      <th>Increase_Sum</th>\n",
       "      <th>Decrease_Sum</th>\n",
       "      <th>Dec_Inc_Ratio</th>\n",
       "      <th>Movement</th>\n",
       "    </tr>\n",
       "  </thead>\n",
       "  <tbody>\n",
       "    <tr>\n",
       "      <th>0</th>\n",
       "      <td>1997-01-22</td>\n",
       "      <td>786.229980</td>\n",
       "      <td>1997-01-29</td>\n",
       "      <td>772.500000</td>\n",
       "      <td>-13.729980</td>\n",
       "      <td>-0.017463</td>\n",
       "      <td>770.96765</td>\n",
       "      <td>268.44272</td>\n",
       "      <td>0.348189</td>\n",
       "      <td>-1</td>\n",
       "    </tr>\n",
       "    <tr>\n",
       "      <th>1</th>\n",
       "      <td>1997-05-07</td>\n",
       "      <td>815.619995</td>\n",
       "      <td>1997-05-14</td>\n",
       "      <td>836.039978</td>\n",
       "      <td>20.419983</td>\n",
       "      <td>0.025036</td>\n",
       "      <td>4861.99788</td>\n",
       "      <td>151.60742</td>\n",
       "      <td>0.031182</td>\n",
       "      <td>1</td>\n",
       "    </tr>\n",
       "    <tr>\n",
       "      <th>2</th>\n",
       "      <td>1997-06-18</td>\n",
       "      <td>889.059998</td>\n",
       "      <td>1997-06-25</td>\n",
       "      <td>888.989990</td>\n",
       "      <td>-0.070008</td>\n",
       "      <td>-0.000079</td>\n",
       "      <td>498.76292</td>\n",
       "      <td>7040.99123</td>\n",
       "      <td>14.116910</td>\n",
       "      <td>-1</td>\n",
       "    </tr>\n",
       "    <tr>\n",
       "      <th>3</th>\n",
       "      <td>1997-08-06</td>\n",
       "      <td>960.320007</td>\n",
       "      <td>1997-08-13</td>\n",
       "      <td>922.020020</td>\n",
       "      <td>-38.299987</td>\n",
       "      <td>-0.039883</td>\n",
       "      <td>465.42210</td>\n",
       "      <td>5109.94301</td>\n",
       "      <td>10.979159</td>\n",
       "      <td>-1</td>\n",
       "    </tr>\n",
       "    <tr>\n",
       "      <th>4</th>\n",
       "      <td>1997-09-17</td>\n",
       "      <td>943.000000</td>\n",
       "      <td>1997-09-24</td>\n",
       "      <td>944.479980</td>\n",
       "      <td>1.479980</td>\n",
       "      <td>0.001569</td>\n",
       "      <td>7359.27861</td>\n",
       "      <td>61.13964</td>\n",
       "      <td>0.008308</td>\n",
       "      <td>1</td>\n",
       "    </tr>\n",
       "  </tbody>\n",
       "</table>\n",
       "</div>"
      ],
      "text/plain": [
       "   Start_Date  Start_Date_Close    End_Date  End_Date_Close  Difference  \\\n",
       "0  1997-01-22        786.229980  1997-01-29      772.500000  -13.729980   \n",
       "1  1997-05-07        815.619995  1997-05-14      836.039978   20.419983   \n",
       "2  1997-06-18        889.059998  1997-06-25      888.989990   -0.070008   \n",
       "3  1997-08-06        960.320007  1997-08-13      922.020020  -38.299987   \n",
       "4  1997-09-17        943.000000  1997-09-24      944.479980    1.479980   \n",
       "\n",
       "   Difference_Percent_Change  Increase_Sum  Decrease_Sum  Dec_Inc_Ratio  \\\n",
       "0                  -0.017463     770.96765     268.44272       0.348189   \n",
       "1                   0.025036    4861.99788     151.60742       0.031182   \n",
       "2                  -0.000079     498.76292    7040.99123      14.116910   \n",
       "3                  -0.039883     465.42210    5109.94301      10.979159   \n",
       "4                   0.001569    7359.27861      61.13964       0.008308   \n",
       "\n",
       "   Movement  \n",
       "0        -1  \n",
       "1         1  \n",
       "2        -1  \n",
       "3        -1  \n",
       "4         1  "
      ]
     },
     "execution_count": 49,
     "metadata": {},
     "output_type": "execute_result"
    }
   ],
   "source": [
    "data.head()"
   ]
  },
  {
   "cell_type": "code",
   "execution_count": 50,
   "metadata": {},
   "outputs": [],
   "source": [
    "feature_data = data[['Increase_Sum', 'Decrease_Sum', 'Dec_Inc_Ratio']]\n",
    "X = feature_data.values[:,:]\n",
    "\n",
    "movement_data = data['Movement']\n",
    "Y = movement_data.values[:]"
   ]
  },
  {
   "cell_type": "code",
   "execution_count": 51,
   "metadata": {},
   "outputs": [],
   "source": [
    "X_train, X_test, Y_train, Y_test = train_test_split(X, Y, test_size=0.2, random_state=42)"
   ]
  },
  {
   "cell_type": "code",
   "execution_count": 80,
   "metadata": {},
   "outputs": [],
   "source": [
    "def baseline_model():\n",
    "    model = Sequential()\n",
    "    model.add(Dense(3, input_dim=3, activation='relu'))\n",
    "    model.add(Dense(9))\n",
    "    model.add(Dense(1, activation='sigmoid'))\n",
    "    model.compile(loss='binary_crossentropy', optimizer='adam', metrics=['accuracy'])\n",
    "    return model"
   ]
  },
  {
   "cell_type": "code",
   "execution_count": 82,
   "metadata": {},
   "outputs": [
    {
     "name": "stdout",
     "output_type": "stream",
     "text": [
      "Epoch 1/5\n",
      " - 12s - loss: 10.1798 - acc: 0.3684\n",
      "Epoch 2/5\n",
      " - 2s - loss: 10.1798 - acc: 0.3684\n",
      "Epoch 3/5\n",
      " - 1s - loss: 10.1798 - acc: 0.3684\n",
      "Epoch 4/5\n",
      " - 2s - loss: 10.1798 - acc: 0.3684\n",
      "Epoch 5/5\n",
      " - 2s - loss: 10.1798 - acc: 0.3684\n",
      "Epoch 1/5\n",
      " - 16s - loss: 10.0102 - acc: 0.3789\n",
      "Epoch 2/5\n",
      " - 1s - loss: 10.0102 - acc: 0.3789\n",
      "Epoch 3/5\n",
      " - 1s - loss: 10.0102 - acc: 0.3789\n",
      "Epoch 4/5\n",
      " - 1s - loss: 10.0102 - acc: 0.3789\n",
      "Epoch 5/5\n",
      " - 1s - loss: 10.0102 - acc: 0.3789\n",
      "Epoch 1/5\n",
      " - 11s - loss: 7.4730 - acc: 0.5312\n",
      "Epoch 2/5\n",
      " - 1s - loss: 7.4730 - acc: 0.5312\n",
      "Epoch 3/5\n",
      " - 1s - loss: 7.4730 - acc: 0.5312\n",
      "Epoch 4/5\n",
      " - 1s - loss: 7.4730 - acc: 0.5312\n",
      "Epoch 5/5\n",
      " - 1s - loss: 7.4730 - acc: 0.5312\n",
      "Baseline: 55.36% (12.03% std dev)\n"
     ]
    }
   ],
   "source": [
    "estimator = KerasClassifier(build_fn=baseline_model, epochs=5, batch_size=1, verbose=2)\n",
    "#kfold = KFold(n_splits=10, shuffle=True)\n",
    "results = cross_val_score(estimator, X, Y)  #, cv=kfold)\n",
    "print(\"Baseline: %.2f%% (%.2f%% std dev)\" % (results.mean()*100, results.std()*100))\n",
    "print('Results')"
   ]
  },
  {
   "cell_type": "code",
   "execution_count": null,
   "metadata": {},
   "outputs": [],
   "source": []
  }
 ],
 "metadata": {
  "kernelspec": {
   "display_name": "Python 3",
   "language": "python",
   "name": "python3"
  },
  "language_info": {
   "codemirror_mode": {
    "name": "ipython",
    "version": 3
   },
   "file_extension": ".py",
   "mimetype": "text/x-python",
   "name": "python",
   "nbconvert_exporter": "python",
   "pygments_lexer": "ipython3",
   "version": "3.7.2"
  }
 },
 "nbformat": 4,
 "nbformat_minor": 1
}
