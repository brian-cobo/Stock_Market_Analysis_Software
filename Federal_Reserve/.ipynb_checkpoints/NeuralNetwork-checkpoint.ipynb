{
 "cells": [
  {
   "cell_type": "code",
   "execution_count": 85,
   "metadata": {
    "pycharm": {
     "is_executing": false
    }
   },
   "outputs": [],
   "source": [
    "import pandas as pd\n",
    "import numpy as np\n",
    "import matplotlib.pyplot as plt\n",
    "import seaborn as sns\n",
    "import warnings\n",
    "warnings.filterwarnings('ignore')\n",
    "\n",
    "from sklearn.model_selection import KFold\n",
    "from sklearn.model_selection import train_test_split\n",
    "from sklearn.model_selection import cross_val_score\n",
    "from sklearn.pipeline import Pipeline\n",
    "\n",
    "from keras.wrappers.scikit_learn import KerasClassifier\n",
    "from keras.models import Sequential\n",
    "from keras.layers import Dense\n",
    "from keras.utils import np_utils"
   ]
  },
  {
   "cell_type": "code",
   "execution_count": 86,
   "metadata": {},
   "outputs": [],
   "source": [
    "data = pd.read_csv('Training_File_5_Day_Period.csv')"
   ]
  },
  {
   "cell_type": "code",
   "execution_count": 87,
   "metadata": {},
   "outputs": [
    {
     "data": {
      "text/html": [
       "<div>\n",
       "<style scoped>\n",
       "    .dataframe tbody tr th:only-of-type {\n",
       "        vertical-align: middle;\n",
       "    }\n",
       "\n",
       "    .dataframe tbody tr th {\n",
       "        vertical-align: top;\n",
       "    }\n",
       "\n",
       "    .dataframe thead th {\n",
       "        text-align: right;\n",
       "    }\n",
       "</style>\n",
       "<table border=\"1\" class=\"dataframe\">\n",
       "  <thead>\n",
       "    <tr style=\"text-align: right;\">\n",
       "      <th></th>\n",
       "      <th>Start_Date</th>\n",
       "      <th>Start_Date_Close</th>\n",
       "      <th>End_Date</th>\n",
       "      <th>End_Date_Close</th>\n",
       "      <th>Difference</th>\n",
       "      <th>Difference_Percent_Change</th>\n",
       "      <th>Increase_Sum</th>\n",
       "      <th>Decrease_Sum</th>\n",
       "      <th>Dec_Inc_Ratio</th>\n",
       "      <th>Movement</th>\n",
       "    </tr>\n",
       "  </thead>\n",
       "  <tbody>\n",
       "    <tr>\n",
       "      <th>0</th>\n",
       "      <td>1996-12-04</td>\n",
       "      <td>745.099976</td>\n",
       "      <td>1996-12-11</td>\n",
       "      <td>740.729980</td>\n",
       "      <td>-4.369996</td>\n",
       "      <td>-0.005865</td>\n",
       "      <td>272.73292</td>\n",
       "      <td>5540.78858</td>\n",
       "      <td>20.315804</td>\n",
       "      <td>-1</td>\n",
       "    </tr>\n",
       "    <tr>\n",
       "      <th>1</th>\n",
       "      <td>1997-01-22</td>\n",
       "      <td>786.229980</td>\n",
       "      <td>1997-01-29</td>\n",
       "      <td>772.500000</td>\n",
       "      <td>-13.729980</td>\n",
       "      <td>-0.017463</td>\n",
       "      <td>481.87092</td>\n",
       "      <td>387.23080</td>\n",
       "      <td>0.803599</td>\n",
       "      <td>-1</td>\n",
       "    </tr>\n",
       "    <tr>\n",
       "      <th>2</th>\n",
       "      <td>1997-03-12</td>\n",
       "      <td>804.260010</td>\n",
       "      <td>1997-03-19</td>\n",
       "      <td>785.770020</td>\n",
       "      <td>-18.489990</td>\n",
       "      <td>-0.022990</td>\n",
       "      <td>364.89519</td>\n",
       "      <td>4022.78681</td>\n",
       "      <td>11.024499</td>\n",
       "      <td>-1</td>\n",
       "    </tr>\n",
       "    <tr>\n",
       "      <th>3</th>\n",
       "      <td>1997-05-07</td>\n",
       "      <td>815.619995</td>\n",
       "      <td>1997-05-14</td>\n",
       "      <td>836.039978</td>\n",
       "      <td>20.419983</td>\n",
       "      <td>0.025036</td>\n",
       "      <td>4296.04537</td>\n",
       "      <td>183.26339</td>\n",
       "      <td>0.042659</td>\n",
       "      <td>1</td>\n",
       "    </tr>\n",
       "    <tr>\n",
       "      <th>4</th>\n",
       "      <td>1997-06-18</td>\n",
       "      <td>889.059998</td>\n",
       "      <td>1997-06-25</td>\n",
       "      <td>888.989990</td>\n",
       "      <td>-0.070008</td>\n",
       "      <td>-0.000079</td>\n",
       "      <td>192.66714</td>\n",
       "      <td>7175.99356</td>\n",
       "      <td>37.245550</td>\n",
       "      <td>-1</td>\n",
       "    </tr>\n",
       "  </tbody>\n",
       "</table>\n",
       "</div>"
      ],
      "text/plain": [
       "   Start_Date  Start_Date_Close    End_Date  End_Date_Close  Difference  \\\n",
       "0  1996-12-04        745.099976  1996-12-11      740.729980   -4.369996   \n",
       "1  1997-01-22        786.229980  1997-01-29      772.500000  -13.729980   \n",
       "2  1997-03-12        804.260010  1997-03-19      785.770020  -18.489990   \n",
       "3  1997-05-07        815.619995  1997-05-14      836.039978   20.419983   \n",
       "4  1997-06-18        889.059998  1997-06-25      888.989990   -0.070008   \n",
       "\n",
       "   Difference_Percent_Change  Increase_Sum  Decrease_Sum  Dec_Inc_Ratio  \\\n",
       "0                  -0.005865     272.73292    5540.78858      20.315804   \n",
       "1                  -0.017463     481.87092     387.23080       0.803599   \n",
       "2                  -0.022990     364.89519    4022.78681      11.024499   \n",
       "3                   0.025036    4296.04537     183.26339       0.042659   \n",
       "4                  -0.000079     192.66714    7175.99356      37.245550   \n",
       "\n",
       "   Movement  \n",
       "0        -1  \n",
       "1        -1  \n",
       "2        -1  \n",
       "3         1  \n",
       "4        -1  "
      ]
     },
     "execution_count": 87,
     "metadata": {},
     "output_type": "execute_result"
    }
   ],
   "source": [
    "data.head()"
   ]
  },
  {
   "cell_type": "code",
   "execution_count": 88,
   "metadata": {},
   "outputs": [],
   "source": [
    "feature_data = data[['Increase_Sum', 'Decrease_Sum', 'Dec_Inc_Ratio']]\n",
    "X = feature_data.values[:,:]\n",
    "\n",
    "movement_data = data['Movement']\n",
    "Y = movement_data.values[:]"
   ]
  },
  {
   "cell_type": "code",
   "execution_count": 89,
   "metadata": {},
   "outputs": [],
   "source": [
    "X_train, X_test, Y_train, Y_test = train_test_split(X, Y, test_size=0.2, random_state=42)"
   ]
  },
  {
   "cell_type": "code",
   "execution_count": 90,
   "metadata": {},
   "outputs": [],
   "source": [
    "def baseline_model():\n",
    "    model = Sequential()\n",
    "    model.add(Dense(3, input_dim=3, activation='relu'))\n",
    "    #model.add(Dense(9))\n",
    "    model.add(Dense(1, activation='sigmoid'))\n",
    "    model.compile(loss='binary_crossentropy', optimizer='adam', metrics=['accuracy'])\n",
    "    return model"
   ]
  },
  {
   "cell_type": "code",
   "execution_count": 91,
   "metadata": {},
   "outputs": [
    {
     "name": "stdout",
     "output_type": "stream",
     "text": [
      "Epoch 1/5\n",
      " - 18s - loss: 5.8455 - acc: 0.6333\n",
      "Epoch 2/5\n",
      " - 1s - loss: 5.8455 - acc: 0.6333\n",
      "Epoch 3/5\n",
      " - 1s - loss: 5.8455 - acc: 0.6333\n",
      "Epoch 4/5\n",
      " - 1s - loss: 5.8455 - acc: 0.6333\n",
      "Epoch 5/5\n",
      " - 1s - loss: 5.8455 - acc: 0.6333\n",
      "Epoch 1/5\n",
      " - 32s - loss: 6.7755 - acc: 0.5750\n",
      "Epoch 2/5\n",
      " - 2s - loss: 6.7755 - acc: 0.5750\n",
      "Epoch 3/5\n",
      " - 1s - loss: 6.7755 - acc: 0.5750\n",
      "Epoch 4/5\n",
      " - 2s - loss: 6.7755 - acc: 0.5750\n",
      "Epoch 5/5\n",
      " - 2s - loss: 6.7755 - acc: 0.5750\n",
      "Epoch 1/5\n",
      " - 22s - loss: 7.8383 - acc: 0.5083\n",
      "Epoch 2/5\n",
      " - 1s - loss: 7.8383 - acc: 0.5083\n",
      "Epoch 3/5\n",
      " - 2s - loss: 7.8383 - acc: 0.5083\n",
      "Epoch 4/5\n",
      " - 1s - loss: 7.8383 - acc: 0.5083\n",
      "Epoch 5/5\n",
      " - 1s - loss: 7.8383 - acc: 0.5083\n",
      "Baseline: 57.22% (10.21% std dev)\n",
      "Results\n"
     ]
    }
   ],
   "source": [
    "estimator = KerasClassifier(build_fn=baseline_model, epochs=5, batch_size=1, verbose=2)\n",
    "#kfold = KFold(n_splits=10, shuffle=True)\n",
    "results = cross_val_score(estimator, X, Y)  #, cv=kfold)\n",
    "print(\"Baseline: %.2f%% (%.2f%% std dev)\" % (results.mean()*100, results.std()*100))\n",
    "print('Results', results)"
   ]
  },
  {
   "cell_type": "code",
   "execution_count": null,
   "metadata": {},
   "outputs": [],
   "source": []
  }
 ],
 "metadata": {
  "kernelspec": {
   "display_name": "Python 3",
   "language": "python",
   "name": "python3"
  },
  "language_info": {
   "codemirror_mode": {
    "name": "ipython",
    "version": 3
   },
   "file_extension": ".py",
   "mimetype": "text/x-python",
   "name": "python",
   "nbconvert_exporter": "python",
   "pygments_lexer": "ipython3",
   "version": "3.7.2"
  }
 },
 "nbformat": 4,
 "nbformat_minor": 1
}
