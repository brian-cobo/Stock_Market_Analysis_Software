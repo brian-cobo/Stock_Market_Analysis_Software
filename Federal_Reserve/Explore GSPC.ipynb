{
 "cells": [
  {
   "cell_type": "code",
   "execution_count": 1,
   "metadata": {
    "pycharm": {
     "is_executing": false
    }
   },
   "outputs": [],
   "source": [
    "import pandas as pd\n",
    "import numpy as np\n",
    "import matplotlib.pyplot as plt\n",
    "import seaborn as sns"
   ]
  },
  {
   "cell_type": "code",
   "execution_count": 2,
   "metadata": {},
   "outputs": [],
   "source": [
    "data = pd.read_csv('GSPC.csv')"
   ]
  },
  {
   "cell_type": "code",
   "execution_count": 3,
   "metadata": {},
   "outputs": [
    {
     "data": {
      "text/html": [
       "<div>\n",
       "<style scoped>\n",
       "    .dataframe tbody tr th:only-of-type {\n",
       "        vertical-align: middle;\n",
       "    }\n",
       "\n",
       "    .dataframe tbody tr th {\n",
       "        vertical-align: top;\n",
       "    }\n",
       "\n",
       "    .dataframe thead th {\n",
       "        text-align: right;\n",
       "    }\n",
       "</style>\n",
       "<table border=\"1\" class=\"dataframe\">\n",
       "  <thead>\n",
       "    <tr style=\"text-align: right;\">\n",
       "      <th></th>\n",
       "      <th>Date</th>\n",
       "      <th>Open</th>\n",
       "      <th>High</th>\n",
       "      <th>Low</th>\n",
       "      <th>Close</th>\n",
       "      <th>Adj Close</th>\n",
       "      <th>Volume</th>\n",
       "    </tr>\n",
       "  </thead>\n",
       "  <tbody>\n",
       "    <tr>\n",
       "      <th>0</th>\n",
       "      <td>2011-01-03</td>\n",
       "      <td>1257.619995</td>\n",
       "      <td>1276.170044</td>\n",
       "      <td>1257.619995</td>\n",
       "      <td>1271.869995</td>\n",
       "      <td>1271.869995</td>\n",
       "      <td>4286670000</td>\n",
       "    </tr>\n",
       "    <tr>\n",
       "      <th>1</th>\n",
       "      <td>2011-01-04</td>\n",
       "      <td>1272.949951</td>\n",
       "      <td>1274.119995</td>\n",
       "      <td>1262.660034</td>\n",
       "      <td>1270.199951</td>\n",
       "      <td>1270.199951</td>\n",
       "      <td>4796420000</td>\n",
       "    </tr>\n",
       "    <tr>\n",
       "      <th>2</th>\n",
       "      <td>2011-01-05</td>\n",
       "      <td>1268.780029</td>\n",
       "      <td>1277.630005</td>\n",
       "      <td>1265.359985</td>\n",
       "      <td>1276.560059</td>\n",
       "      <td>1276.560059</td>\n",
       "      <td>4764920000</td>\n",
       "    </tr>\n",
       "    <tr>\n",
       "      <th>3</th>\n",
       "      <td>2011-01-06</td>\n",
       "      <td>1276.290039</td>\n",
       "      <td>1278.170044</td>\n",
       "      <td>1270.430054</td>\n",
       "      <td>1273.849976</td>\n",
       "      <td>1273.849976</td>\n",
       "      <td>4844100000</td>\n",
       "    </tr>\n",
       "    <tr>\n",
       "      <th>4</th>\n",
       "      <td>2011-01-07</td>\n",
       "      <td>1274.410034</td>\n",
       "      <td>1276.829956</td>\n",
       "      <td>1261.699951</td>\n",
       "      <td>1271.500000</td>\n",
       "      <td>1271.500000</td>\n",
       "      <td>4963110000</td>\n",
       "    </tr>\n",
       "  </tbody>\n",
       "</table>\n",
       "</div>"
      ],
      "text/plain": [
       "         Date         Open         High          Low        Close  \\\n",
       "0  2011-01-03  1257.619995  1276.170044  1257.619995  1271.869995   \n",
       "1  2011-01-04  1272.949951  1274.119995  1262.660034  1270.199951   \n",
       "2  2011-01-05  1268.780029  1277.630005  1265.359985  1276.560059   \n",
       "3  2011-01-06  1276.290039  1278.170044  1270.430054  1273.849976   \n",
       "4  2011-01-07  1274.410034  1276.829956  1261.699951  1271.500000   \n",
       "\n",
       "     Adj Close      Volume  \n",
       "0  1271.869995  4286670000  \n",
       "1  1270.199951  4796420000  \n",
       "2  1276.560059  4764920000  \n",
       "3  1273.849976  4844100000  \n",
       "4  1271.500000  4963110000  "
      ]
     },
     "execution_count": 3,
     "metadata": {},
     "output_type": "execute_result"
    }
   ],
   "source": [
    "data.head()"
   ]
  },
  {
   "cell_type": "code",
   "execution_count": null,
   "metadata": {},
   "outputs": [],
   "source": []
  }
 ],
 "metadata": {
  "kernelspec": {
   "display_name": "Python 3",
   "language": "python",
   "name": "python3"
  },
  "language_info": {
   "codemirror_mode": {
    "name": "ipython",
    "version": 3
   },
   "file_extension": ".py",
   "mimetype": "text/x-python",
   "name": "python",
   "nbconvert_exporter": "python",
   "pygments_lexer": "ipython3",
   "version": "3.7.2"
  }
 },
 "nbformat": 4,
 "nbformat_minor": 1
}
