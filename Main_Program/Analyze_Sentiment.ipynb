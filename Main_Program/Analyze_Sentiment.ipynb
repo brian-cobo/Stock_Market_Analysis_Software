{
 "cells": [
  {
   "cell_type": "code",
   "execution_count": 9,
   "metadata": {
    "pycharm": {
     "is_executing": false
    }
   },
   "outputs": [
    {
     "ename": "ImportError",
     "evalue": "No module named seaborn",
     "output_type": "error",
     "traceback": [
      "\u001b[0;31m---------------------------------------------------------------------------\u001b[0m",
      "\u001b[0;31mImportError\u001b[0m                               Traceback (most recent call last)",
      "\u001b[0;32m<ipython-input-9-7b69af8e12fd>\u001b[0m in \u001b[0;36m<module>\u001b[0;34m()\u001b[0m\n\u001b[1;32m      2\u001b[0m \u001b[0;32mimport\u001b[0m \u001b[0mnumpy\u001b[0m \u001b[0;32mas\u001b[0m \u001b[0mnp\u001b[0m\u001b[0;34m\u001b[0m\u001b[0m\n\u001b[1;32m      3\u001b[0m \u001b[0;32mimport\u001b[0m \u001b[0mmatplotlib\u001b[0m\u001b[0;34m.\u001b[0m\u001b[0mpyplot\u001b[0m \u001b[0;32mas\u001b[0m \u001b[0mplt\u001b[0m\u001b[0;34m\u001b[0m\u001b[0m\n\u001b[0;32m----> 4\u001b[0;31m \u001b[0;32mimport\u001b[0m \u001b[0mseaborn\u001b[0m \u001b[0;32mas\u001b[0m \u001b[0msns\u001b[0m\u001b[0;34m\u001b[0m\u001b[0m\n\u001b[0m",
      "\u001b[0;31mImportError\u001b[0m: No module named seaborn"
     ]
    }
   ],
   "source": [
    "import pandas as pd\n",
    "import numpy as np\n",
    "import matplotlib.pyplot as plt"
   ]
  },
  {
   "cell_type": "code",
   "execution_count": 4,
   "metadata": {},
   "outputs": [
    {
     "name": "stdout",
     "output_type": "stream",
     "text": [
      "373\n",
      "254\n"
     ]
    }
   ],
   "source": [
    "data = pd.read_csv('Sentiment_Results.csv')\n",
    "print(len(data))\n",
    "data = data[(data.Company_Symbol == 'TSLA')]\n",
    "print(len(data))"
   ]
  },
  {
   "cell_type": "code",
   "execution_count": 5,
   "metadata": {},
   "outputs": [
    {
     "data": {
      "text/plain": [
       "(254, 22)"
      ]
     },
     "execution_count": 5,
     "metadata": {},
     "output_type": "execute_result"
    }
   ],
   "source": [
    "data.shape"
   ]
  },
  {
   "cell_type": "code",
   "execution_count": 6,
   "metadata": {},
   "outputs": [
    {
     "data": {
      "text/plain": [
       "Index([u'Unnamed: 0', u'URL', u'Title', u'Company_Symbol', u'Author',\n",
       "       u'Date_Published', u'Time_Published', u'numberOfWords', u'positive_%',\n",
       "       u'negative_%', u'uncertainty_%', u'litigious', u'modal-weak_%',\n",
       "       u'modal-moderate_%', u'modal-strong_%', u'constraining_%',\n",
       "       u'num_of_alphanumeric', u'num_of_digits', u'num_of_Numbers',\n",
       "       u'avg_num_Of_syllables_per_word', u'avg_word_length', u'vocabulary'],\n",
       "      dtype='object')"
      ]
     },
     "execution_count": 6,
     "metadata": {},
     "output_type": "execute_result"
    }
   ],
   "source": [
    "data.columns"
   ]
  },
  {
   "cell_type": "code",
   "execution_count": 7,
   "metadata": {},
   "outputs": [
    {
     "name": "stdout",
     "output_type": "stream",
     "text": [
      "<class 'pandas.core.frame.DataFrame'>\n",
      "Int64Index: 254 entries, 0 to 358\n",
      "Data columns (total 22 columns):\n",
      "Unnamed: 0                       254 non-null int64\n",
      "URL                              254 non-null object\n",
      "Title                            254 non-null object\n",
      "Company_Symbol                   254 non-null object\n",
      "Author                           254 non-null object\n",
      "Date_Published                   254 non-null object\n",
      "Time_Published                   254 non-null object\n",
      "numberOfWords                    254 non-null int64\n",
      "positive_%                       254 non-null float64\n",
      "negative_%                       254 non-null float64\n",
      "uncertainty_%                    254 non-null float64\n",
      "litigious                        254 non-null float64\n",
      "modal-weak_%                     254 non-null float64\n",
      "modal-moderate_%                 254 non-null float64\n",
      "modal-strong_%                   254 non-null float64\n",
      "constraining_%                   254 non-null float64\n",
      "num_of_alphanumeric              254 non-null int64\n",
      "num_of_digits                    254 non-null int64\n",
      "num_of_Numbers                   254 non-null int64\n",
      "avg_num_Of_syllables_per_word    254 non-null float64\n",
      "avg_word_length                  254 non-null float64\n",
      "vocabulary                       254 non-null int64\n",
      "dtypes: float64(10), int64(6), object(6)\n",
      "memory usage: 45.6+ KB\n"
     ]
    }
   ],
   "source": [
    "data.info()"
   ]
  },
  {
   "cell_type": "code",
   "execution_count": 10,
   "metadata": {},
   "outputs": [
    {
     "data": {
      "text/html": [
       "<div>\n",
       "<style scoped>\n",
       "    .dataframe tbody tr th:only-of-type {\n",
       "        vertical-align: middle;\n",
       "    }\n",
       "\n",
       "    .dataframe tbody tr th {\n",
       "        vertical-align: top;\n",
       "    }\n",
       "\n",
       "    .dataframe thead th {\n",
       "        text-align: right;\n",
       "    }\n",
       "</style>\n",
       "<table border=\"1\" class=\"dataframe\">\n",
       "  <thead>\n",
       "    <tr style=\"text-align: right;\">\n",
       "      <th></th>\n",
       "      <th>Unnamed: 0</th>\n",
       "      <th>URL</th>\n",
       "      <th>Title</th>\n",
       "      <th>Company_Symbol</th>\n",
       "      <th>Author</th>\n",
       "      <th>Date_Published</th>\n",
       "      <th>Time_Published</th>\n",
       "      <th>numberOfWords</th>\n",
       "      <th>positive_%</th>\n",
       "      <th>negative_%</th>\n",
       "      <th>...</th>\n",
       "      <th>modal-weak_%</th>\n",
       "      <th>modal-moderate_%</th>\n",
       "      <th>modal-strong_%</th>\n",
       "      <th>constraining_%</th>\n",
       "      <th>num_of_alphanumeric</th>\n",
       "      <th>num_of_digits</th>\n",
       "      <th>num_of_Numbers</th>\n",
       "      <th>avg_num_Of_syllables_per_word</th>\n",
       "      <th>avg_word_length</th>\n",
       "      <th>vocabulary</th>\n",
       "    </tr>\n",
       "  </thead>\n",
       "  <tbody>\n",
       "    <tr>\n",
       "      <th>0</th>\n",
       "      <td>0</td>\n",
       "      <td>https://www.ibtimes.com/tesla-model-s-key-fobs...</td>\n",
       "      <td>Tesla Model S Key Fobs At Risk of Hacker Cloning</td>\n",
       "      <td>TSLA</td>\n",
       "      <td>Leah Yecla</td>\n",
       "      <td>08/28/19</td>\n",
       "      <td>1:07 PM</td>\n",
       "      <td>351</td>\n",
       "      <td>2.279202</td>\n",
       "      <td>2.849003</td>\n",
       "      <td>...</td>\n",
       "      <td>0.284900</td>\n",
       "      <td>0.28490</td>\n",
       "      <td>0.569801</td>\n",
       "      <td>1.139601</td>\n",
       "      <td>1890</td>\n",
       "      <td>14</td>\n",
       "      <td>7</td>\n",
       "      <td>1.592593</td>\n",
       "      <td>4.897436</td>\n",
       "      <td>179</td>\n",
       "    </tr>\n",
       "    <tr>\n",
       "      <th>3</th>\n",
       "      <td>3</td>\n",
       "      <td>https://www.ibtimes.com/elon-musk-present-firs...</td>\n",
       "      <td>Elon Musk To Present First China-Made Tesla Mo...</td>\n",
       "      <td>TSLA</td>\n",
       "      <td>Arthur Villasanta</td>\n",
       "      <td>08/27/19</td>\n",
       "      <td>9:41 PM</td>\n",
       "      <td>398</td>\n",
       "      <td>1.005025</td>\n",
       "      <td>0.753769</td>\n",
       "      <td>...</td>\n",
       "      <td>1.256281</td>\n",
       "      <td>0.00000</td>\n",
       "      <td>2.261307</td>\n",
       "      <td>0.251256</td>\n",
       "      <td>2161</td>\n",
       "      <td>16</td>\n",
       "      <td>10</td>\n",
       "      <td>1.650754</td>\n",
       "      <td>4.912060</td>\n",
       "      <td>198</td>\n",
       "    </tr>\n",
       "    <tr>\n",
       "      <th>4</th>\n",
       "      <td>4</td>\n",
       "      <td>https://www.ibtimes.com/tesla-pickup-design-la...</td>\n",
       "      <td>Tesla Pickup Design: Latest Concept Is 'Closes...</td>\n",
       "      <td>TSLA</td>\n",
       "      <td>Lorraine Lorenzo</td>\n",
       "      <td>08/27/19</td>\n",
       "      <td>12:27 AM</td>\n",
       "      <td>401</td>\n",
       "      <td>0.748130</td>\n",
       "      <td>0.249377</td>\n",
       "      <td>...</td>\n",
       "      <td>0.748130</td>\n",
       "      <td>0.74813</td>\n",
       "      <td>0.997506</td>\n",
       "      <td>0.000000</td>\n",
       "      <td>1988</td>\n",
       "      <td>25</td>\n",
       "      <td>6</td>\n",
       "      <td>1.498753</td>\n",
       "      <td>4.615960</td>\n",
       "      <td>196</td>\n",
       "    </tr>\n",
       "    <tr>\n",
       "      <th>5</th>\n",
       "      <td>5</td>\n",
       "      <td>https://www.ibtimes.com/tesla-affected-us-chin...</td>\n",
       "      <td>Tesla Affected By US-China Trade War, Increase...</td>\n",
       "      <td>TSLA</td>\n",
       "      <td>Arthur Villasanta</td>\n",
       "      <td>08/27/19</td>\n",
       "      <td>12:21 AM</td>\n",
       "      <td>355</td>\n",
       "      <td>1.126761</td>\n",
       "      <td>3.098592</td>\n",
       "      <td>...</td>\n",
       "      <td>0.281690</td>\n",
       "      <td>0.28169</td>\n",
       "      <td>0.845070</td>\n",
       "      <td>0.563380</td>\n",
       "      <td>1855</td>\n",
       "      <td>44</td>\n",
       "      <td>18</td>\n",
       "      <td>1.566197</td>\n",
       "      <td>4.721127</td>\n",
       "      <td>187</td>\n",
       "    </tr>\n",
       "    <tr>\n",
       "      <th>6</th>\n",
       "      <td>6</td>\n",
       "      <td>https://www.ibtimes.com/tesla-model-3-starts-t...</td>\n",
       "      <td>Tesla Model 3 Starts Trial Production At Shang...</td>\n",
       "      <td>TSLA</td>\n",
       "      <td>Arthur Villasanta</td>\n",
       "      <td>08/26/19</td>\n",
       "      <td>11:22 PM</td>\n",
       "      <td>366</td>\n",
       "      <td>0.546448</td>\n",
       "      <td>0.273224</td>\n",
       "      <td>...</td>\n",
       "      <td>0.546448</td>\n",
       "      <td>0.00000</td>\n",
       "      <td>0.546448</td>\n",
       "      <td>0.000000</td>\n",
       "      <td>2145</td>\n",
       "      <td>32</td>\n",
       "      <td>15</td>\n",
       "      <td>1.696721</td>\n",
       "      <td>5.144809</td>\n",
       "      <td>183</td>\n",
       "    </tr>\n",
       "  </tbody>\n",
       "</table>\n",
       "<p>5 rows × 22 columns</p>\n",
       "</div>"
      ],
      "text/plain": [
       "   Unnamed: 0                                                URL  \\\n",
       "0           0  https://www.ibtimes.com/tesla-model-s-key-fobs...   \n",
       "3           3  https://www.ibtimes.com/elon-musk-present-firs...   \n",
       "4           4  https://www.ibtimes.com/tesla-pickup-design-la...   \n",
       "5           5  https://www.ibtimes.com/tesla-affected-us-chin...   \n",
       "6           6  https://www.ibtimes.com/tesla-model-3-starts-t...   \n",
       "\n",
       "                                               Title Company_Symbol  \\\n",
       "0   Tesla Model S Key Fobs At Risk of Hacker Cloning           TSLA   \n",
       "3  Elon Musk To Present First China-Made Tesla Mo...           TSLA   \n",
       "4  Tesla Pickup Design: Latest Concept Is 'Closes...           TSLA   \n",
       "5  Tesla Affected By US-China Trade War, Increase...           TSLA   \n",
       "6  Tesla Model 3 Starts Trial Production At Shang...           TSLA   \n",
       "\n",
       "              Author Date_Published Time_Published  numberOfWords  positive_%  \\\n",
       "0         Leah Yecla       08/28/19        1:07 PM            351    2.279202   \n",
       "3  Arthur Villasanta       08/27/19        9:41 PM            398    1.005025   \n",
       "4   Lorraine Lorenzo       08/27/19       12:27 AM            401    0.748130   \n",
       "5  Arthur Villasanta       08/27/19       12:21 AM            355    1.126761   \n",
       "6  Arthur Villasanta       08/26/19       11:22 PM            366    0.546448   \n",
       "\n",
       "   negative_%  ...  modal-weak_%  modal-moderate_%  modal-strong_%  \\\n",
       "0    2.849003  ...      0.284900           0.28490        0.569801   \n",
       "3    0.753769  ...      1.256281           0.00000        2.261307   \n",
       "4    0.249377  ...      0.748130           0.74813        0.997506   \n",
       "5    3.098592  ...      0.281690           0.28169        0.845070   \n",
       "6    0.273224  ...      0.546448           0.00000        0.546448   \n",
       "\n",
       "   constraining_%  num_of_alphanumeric  num_of_digits  num_of_Numbers  \\\n",
       "0        1.139601                 1890             14               7   \n",
       "3        0.251256                 2161             16              10   \n",
       "4        0.000000                 1988             25               6   \n",
       "5        0.563380                 1855             44              18   \n",
       "6        0.000000                 2145             32              15   \n",
       "\n",
       "   avg_num_Of_syllables_per_word  avg_word_length  vocabulary  \n",
       "0                       1.592593         4.897436         179  \n",
       "3                       1.650754         4.912060         198  \n",
       "4                       1.498753         4.615960         196  \n",
       "5                       1.566197         4.721127         187  \n",
       "6                       1.696721         5.144809         183  \n",
       "\n",
       "[5 rows x 22 columns]"
      ]
     },
     "execution_count": 10,
     "metadata": {},
     "output_type": "execute_result"
    }
   ],
   "source": [
    "data.head()"
   ]
  },
  {
   "cell_type": "code",
   "execution_count": null,
   "metadata": {},
   "outputs": [],
   "source": [
    "plt."
   ]
  }
 ],
 "metadata": {
  "kernelspec": {
   "display_name": "Python 2",
   "language": "python",
   "name": "python2"
  },
  "language_info": {
   "codemirror_mode": {
    "name": "ipython",
    "version": 2
   },
   "file_extension": ".py",
   "mimetype": "text/x-python",
   "name": "python",
   "nbconvert_exporter": "python",
   "pygments_lexer": "ipython2",
   "version": "2.7.16"
  }
 },
 "nbformat": 4,
 "nbformat_minor": 1
}
