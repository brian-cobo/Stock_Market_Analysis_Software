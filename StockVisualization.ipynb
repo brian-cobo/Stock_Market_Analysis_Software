{
 "cells": [
  {
   "cell_type": "markdown",
   "metadata": {},
   "source": [
    "# Stock Visualization\n",
    "The goal of the notebook is to take a systematic approach to being able take company's stock name and utilizing the Alpha Vantage api to create a series of visualizations and critiques based on the information provided."
   ]
  },
  {
   "cell_type": "code",
   "execution_count": 10,
   "metadata": {
    "pycharm": {
     "is_executing": false
    }
   },
   "outputs": [],
   "source": [
    "import pandas as pd\n",
    "import numpy as np\n",
    "import matplotlib.pyplot as plt\n",
    "import seaborn as sns\n",
    "import urllib.request\n",
    "import json\n",
    "from pandas.io.json import json_normalize\n",
    "from APIData import getAPIKey"
   ]
  },
  {
   "cell_type": "markdown",
   "metadata": {},
   "source": [
    "We're going to start doing some api calls. For the time being i'm listing out the variables needed to make the api calls. Eventually, I'll put it into a class object for easier access"
   ]
  },
  {
   "cell_type": "code",
   "execution_count": 50,
   "metadata": {},
   "outputs": [
    {
     "name": "stdout",
     "output_type": "stream",
     "text": [
      "Download CSV: https://www.alphavantage.co/query?function=TIME_SERIES_DAILY&symbol=TSLA&apikey=YZ4TPATE6WB2OHPH&datatype=csv\n"
     ]
    },
    {
     "data": {
      "text/html": [
       "<div>\n",
       "<style scoped>\n",
       "    .dataframe tbody tr th:only-of-type {\n",
       "        vertical-align: middle;\n",
       "    }\n",
       "\n",
       "    .dataframe tbody tr th {\n",
       "        vertical-align: top;\n",
       "    }\n",
       "\n",
       "    .dataframe thead th {\n",
       "        text-align: right;\n",
       "    }\n",
       "</style>\n",
       "<table border=\"1\" class=\"dataframe\">\n",
       "  <thead>\n",
       "    <tr style=\"text-align: right;\">\n",
       "      <th></th>\n",
       "      <th>1. open</th>\n",
       "      <th>2. high</th>\n",
       "      <th>3. low</th>\n",
       "      <th>4. close</th>\n",
       "      <th>5. volume</th>\n",
       "    </tr>\n",
       "  </thead>\n",
       "  <tbody>\n",
       "    <tr>\n",
       "      <th>2019-06-20</th>\n",
       "      <td>223.0000</td>\n",
       "      <td>226.9000</td>\n",
       "      <td>216.3500</td>\n",
       "      <td>219.6200</td>\n",
       "      <td>11647187</td>\n",
       "    </tr>\n",
       "    <tr>\n",
       "      <th>2019-06-19</th>\n",
       "      <td>225.1100</td>\n",
       "      <td>227.7700</td>\n",
       "      <td>221.0600</td>\n",
       "      <td>226.4300</td>\n",
       "      <td>6554688</td>\n",
       "    </tr>\n",
       "    <tr>\n",
       "      <th>2019-06-18</th>\n",
       "      <td>228.7200</td>\n",
       "      <td>234.7400</td>\n",
       "      <td>222.5600</td>\n",
       "      <td>224.7400</td>\n",
       "      <td>12715788</td>\n",
       "    </tr>\n",
       "    <tr>\n",
       "      <th>2019-06-17</th>\n",
       "      <td>215.4800</td>\n",
       "      <td>227.0000</td>\n",
       "      <td>214.2700</td>\n",
       "      <td>225.0300</td>\n",
       "      <td>12316803</td>\n",
       "    </tr>\n",
       "    <tr>\n",
       "      <th>2019-06-14</th>\n",
       "      <td>211.2500</td>\n",
       "      <td>216.6500</td>\n",
       "      <td>210.4000</td>\n",
       "      <td>214.9200</td>\n",
       "      <td>7433402</td>\n",
       "    </tr>\n",
       "  </tbody>\n",
       "</table>\n",
       "</div>"
      ],
      "text/plain": [
       "             1. open   2. high    3. low  4. close 5. volume\n",
       "2019-06-20  223.0000  226.9000  216.3500  219.6200  11647187\n",
       "2019-06-19  225.1100  227.7700  221.0600  226.4300   6554688\n",
       "2019-06-18  228.7200  234.7400  222.5600  224.7400  12715788\n",
       "2019-06-17  215.4800  227.0000  214.2700  225.0300  12316803\n",
       "2019-06-14  211.2500  216.6500  210.4000  214.9200   7433402"
      ]
     },
     "execution_count": 50,
     "metadata": {},
     "output_type": "execute_result"
    }
   ],
   "source": [
    "apiKey = getAPIKey()\n",
    "symbol = 'TSLA'\n",
    "type = 'TIME_SERIES_DAILY'\n",
    "dataType = 'csv'\n",
    "\n",
    "url = f'https://www.alphavantage.co/query?function={type}&symbol={symbol}&apikey={apiKey}'\n",
    "csvDownload = f'https://www.alphavantage.co/query?function={type}&symbol={symbol}&apikey={apiKey}&datatype={dataType}'\n",
    "print('Download CSV:', csvDownload)\n",
    "\n",
    "with urllib.request.urlopen(url) as response:\n",
    "   html = response.read()\n",
    "   data = json.loads(html)\n",
    "\n",
    "stockData = []\n",
    "stockInfo = pd.DataFrame(data['Time Series (Daily)'])\n",
    "stockInfo = stockInfo.transpose() \n",
    "stockInfo.head()    "
   ]
  },
  {
   "cell_type": "code",
   "execution_count": null,
   "metadata": {},
   "outputs": [],
   "source": []
  }
 ],
 "metadata": {
  "kernelspec": {
   "display_name": "Python 3",
   "language": "python",
   "name": "python3"
  },
  "language_info": {
   "codemirror_mode": {
    "name": "ipython",
    "version": 3
   },
   "file_extension": ".py",
   "mimetype": "text/x-python",
   "name": "python",
   "nbconvert_exporter": "python",
   "pygments_lexer": "ipython3",
   "version": "3.7.2"
  }
 },
 "nbformat": 4,
 "nbformat_minor": 1
}
